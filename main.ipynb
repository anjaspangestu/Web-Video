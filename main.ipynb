{
  "nbformat": 4,
  "nbformat_minor": 0,
  "metadata": {
    "colab": {
      "name": "main.ipynb",
      "provenance": [],
      "collapsed_sections": [],
      "mount_file_id": "1AdN5j6rNInPtMiZlD0OVnUvOQt-p8RFQ",
      "authorship_tag": "ABX9TyM5W7/Yzfq3ztiztsdl2orj",
      "include_colab_link": true
    },
    "kernelspec": {
      "name": "python3",
      "display_name": "Python 3"
    },
    "language_info": {
      "name": "python"
    }
  },
  "cells": [
    {
      "cell_type": "markdown",
      "metadata": {
        "id": "view-in-github",
        "colab_type": "text"
      },
      "source": [
        "<a href=\"https://colab.research.google.com/github/anjaspangestu/Web-Video/blob/master/main.ipynb\" target=\"_parent\"><img src=\"https://colab.research.google.com/assets/colab-badge.svg\" alt=\"Open In Colab\"/></a>"
      ]
    },
    {
      "cell_type": "code",
      "metadata": {
        "colab": {
          "base_uri": "https://localhost:8080/"
        },
        "id": "DQY_RvVIOm_B",
        "outputId": "bf967290-db8c-444e-f591-fbc400df39db"
      },
      "source": [
        "import cv2\n",
        "import numpy as np\n",
        "import glob\n",
        "import os\n",
        "import shutil\n",
        "\n",
        "\n",
        "def connected_component_label(filepath):\n",
        "    n = cv2.imread(filepath, 0)\n",
        "    # Thresholding (t == 98)\n",
        "    n = cv2.threshold(n, 98, 255, cv2.THRESH_BINARY)[1]\n",
        "    # Start CCL\n",
        "    num_labels, labels = cv2.connectedComponents(n)\n",
        "\n",
        "    label_hue = np.uint8(179 * labels / np.max(labels))\n",
        "    blank_ch = 255 * np.ones_like(label_hue)\n",
        "    labeled_img = cv2.merge([label_hue, blank_ch, blank_ch])\n",
        "    labeled_img = cv2.cvtColor(labeled_img, cv2.COLOR_HSV2BGR)\n",
        "    # background black\n",
        "    labeled_img[label_hue == 0] = 0\n",
        "    return labeled_img\n",
        "\n",
        "\n",
        "def deleteDir(folder):\n",
        "    for filename in os.listdir(folder):\n",
        "        file_path = os.path.join(folder, filename)\n",
        "        try:\n",
        "            if os.path.isfile(file_path) or os.path.islink(file_path):\n",
        "                os.unlink(file_path)\n",
        "            elif os.path.isdir(file_path):\n",
        "                shutil.rmtree(file_path)\n",
        "        except Exception as e:\n",
        "            print('Failed to delete file on %s. Info: %s' % (file_path, e))\n",
        "\n",
        "\n",
        "#/content/drive/MyDrive/Dataset/Glioma merupakan lokasi dari penyimpanan dataset pada gDrive, bisa diubah sesuai data yg tersimpan pada folder tertentu\n",
        "sourcePath = glob.glob('/content/drive/MyDrive/Dataset/Glioma' + '/*.png')\n",
        "targetedPath = '/content/drive/MyDrive/Dataset/Output'\n",
        "cv_img = []\n",
        "if os.path.exists(targetedPath):\n",
        "    print(\"folder ada.\")\n",
        "    deleteDir(targetedPath)\n",
        "    i = 0\n",
        "    for img in sourcePath:\n",
        "        i += 1\n",
        "        #ubah 20 untuk memproses n total dari dataset. Contoh n = 100, maka akan memproses 100 dataset\n",
        "        if(i <= 20):\n",
        "          print(\"processing data - \", i, 'filepath: ', img)\n",
        "          output = connected_component_label(img)\n",
        "          cv2.imwrite(f'' + targetedPath + '/output_' + str(i) + '.png', output)\n",
        "        else:\n",
        "          break\n",
        "else:\n",
        "    print(\"folder not found.\")\n",
        "    \n"
      ],
      "execution_count": 9,
      "outputs": [
        {
          "output_type": "stream",
          "name": "stdout",
          "text": [
            "folder ada.\n",
            "processing data -  1 filepath:  /content/drive/MyDrive/Dataset/Glioma/2266.png\n",
            "processing data -  2 filepath:  /content/drive/MyDrive/Dataset/Glioma/2274.png\n",
            "processing data -  3 filepath:  /content/drive/MyDrive/Dataset/Glioma/2268.png\n",
            "processing data -  4 filepath:  /content/drive/MyDrive/Dataset/Glioma/2271.png\n",
            "processing data -  5 filepath:  /content/drive/MyDrive/Dataset/Glioma/2273.png\n",
            "processing data -  6 filepath:  /content/drive/MyDrive/Dataset/Glioma/2283.png\n",
            "processing data -  7 filepath:  /content/drive/MyDrive/Dataset/Glioma/2277.png\n",
            "processing data -  8 filepath:  /content/drive/MyDrive/Dataset/Glioma/2279.png\n",
            "processing data -  9 filepath:  /content/drive/MyDrive/Dataset/Glioma/2280.png\n",
            "processing data -  10 filepath:  /content/drive/MyDrive/Dataset/Glioma/2272.png\n",
            "processing data -  11 filepath:  /content/drive/MyDrive/Dataset/Glioma/2258.png\n",
            "processing data -  12 filepath:  /content/drive/MyDrive/Dataset/Glioma/2270.png\n",
            "processing data -  13 filepath:  /content/drive/MyDrive/Dataset/Glioma/2259.png\n",
            "processing data -  14 filepath:  /content/drive/MyDrive/Dataset/Glioma/2285.png\n",
            "processing data -  15 filepath:  /content/drive/MyDrive/Dataset/Glioma/2260.png\n",
            "processing data -  16 filepath:  /content/drive/MyDrive/Dataset/Glioma/2278.png\n",
            "processing data -  17 filepath:  /content/drive/MyDrive/Dataset/Glioma/2281.png\n",
            "processing data -  18 filepath:  /content/drive/MyDrive/Dataset/Glioma/2282.png\n",
            "processing data -  19 filepath:  /content/drive/MyDrive/Dataset/Glioma/2269.png\n"
          ]
        }
      ]
    }
  ]
}